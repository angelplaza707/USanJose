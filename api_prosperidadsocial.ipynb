{
 "cells": [
  {
   "cell_type": "code",
   "execution_count": 105,
   "id": "7d2eaf97",
   "metadata": {},
   "outputs": [],
   "source": [
    "# Recomendado: Python 3.10+ en kernel local (VS Code + extensión Jupyter).\n",
    "# Crea un entorno virtual si quieres aislar dependencias:\n",
    "#   python -m venv .venv\n",
    "#   .venv\\Scripts\\activate   # Windows\n",
    "#   source .venv/bin/activate  # macOS/Linux"
   ]
  },
  {
   "cell_type": "code",
   "execution_count": 106,
   "id": "03a5f87b",
   "metadata": {},
   "outputs": [
    {
     "name": "stdout",
     "output_type": "stream",
     "text": [
      "Note: you may need to restart the kernel to use updated packages.\n"
     ]
    },
    {
     "name": "stderr",
     "output_type": "stream",
     "text": [
      "\n",
      "[notice] A new release of pip is available: 25.1.1 -> 25.2\n",
      "[notice] To update, run: C:\\Users\\crist\\AppData\\Local\\Microsoft\\WindowsApps\\PythonSoftwareFoundation.Python.3.12_qbz5n2kfra8p0\\python.exe -m pip install --upgrade pip\n"
     ]
    },
    {
     "name": "stdout",
     "output_type": "stream",
     "text": [
      "Note: you may need to restart the kernel to use updated packages.\n"
     ]
    },
    {
     "name": "stderr",
     "output_type": "stream",
     "text": [
      "\n",
      "[notice] A new release of pip is available: 25.1.1 -> 25.2\n",
      "[notice] To update, run: C:\\Users\\crist\\AppData\\Local\\Microsoft\\WindowsApps\\PythonSoftwareFoundation.Python.3.12_qbz5n2kfra8p0\\python.exe -m pip install --upgrade pip\n"
     ]
    },
    {
     "name": "stdout",
     "output_type": "stream",
     "text": [
      "Note: you may need to restart the kernel to use updated packages.\n"
     ]
    },
    {
     "name": "stderr",
     "output_type": "stream",
     "text": [
      "\n",
      "[notice] A new release of pip is available: 25.1.1 -> 25.2\n",
      "[notice] To update, run: C:\\Users\\crist\\AppData\\Local\\Microsoft\\WindowsApps\\PythonSoftwareFoundation.Python.3.12_qbz5n2kfra8p0\\python.exe -m pip install --upgrade pip\n"
     ]
    }
   ],
   "source": [
    "%pip install -q pandas numpy requests pyarrow matplotlib python-dotenv\n",
    "%pip install -q scikit-learn\n",
    "%pip install -q seaborn"
   ]
  },
  {
   "cell_type": "code",
   "execution_count": 107,
   "id": "8c057f20",
   "metadata": {},
   "outputs": [],
   "source": [
    "import os\n",
    "from pathlib import Path\n",
    "import math\n",
    "import time\n",
    "import re\n",
    "import json\n",
    "import requests\n",
    "import pandas as pd\n",
    "import numpy as np\n",
    "from dotenv import load_dotenv\n",
    "\n",
    "pd.set_option(\"display.max_columns\", 100)\n",
    "pd.set_option(\"display.width\", 120)"
   ]
  },
  {
   "cell_type": "code",
   "execution_count": 108,
   "id": "19be2842",
   "metadata": {},
   "outputs": [
    {
     "name": "stdout",
     "output_type": "stream",
     "text": [
      "Rutas creadas ✅\n"
     ]
    }
   ],
   "source": [
    "# URL base de la API (Socrata SODA)\n",
    "API_URL = \"https://www.datos.gov.co/resource/xfif-myr2.json\"\n",
    "\n",
    "# Opcional: usa un token de app Socrata para evitar límites estrictos (si tienes cuenta).\n",
    "# Crea un archivo .env con:\n",
    "#   SODA_APP_TOKEN=tu_token\n",
    "load_dotenv()\n",
    "SODA_APP_TOKEN = os.getenv(\"SODA_APP_TOKEN\")\n",
    "\n",
    "# Estructura local del repo (sugerida)\n",
    "DATA_DIR = Path(\"data\")\n",
    "RAW_DIR = DATA_DIR / \"raw\"\n",
    "PROC_DIR = DATA_DIR / \"processed\"\n",
    "FIG_DIR = Path(\"figures\")\n",
    "for d in [RAW_DIR, PROC_DIR, FIG_DIR]:\n",
    "    d.mkdir(parents=True, exist_ok=True)\n",
    "\n",
    "RAW_FILE = RAW_DIR / \"xfif_myr2_raw.parquet\"\n",
    "PROC_FILE = PROC_DIR / \"xfif_myr2_clean.parquet\"\n",
    "\n",
    "print(\"Rutas creadas ✅\")\n"
   ]
  },
  {
   "cell_type": "code",
   "execution_count": 109,
   "id": "13b3ce32",
   "metadata": {},
   "outputs": [
    {
     "name": "stdout",
     "output_type": "stream",
     "text": [
      "Descargadas 100,000 filas...\n",
      "✅ Descarga completa: 100,000 filas.\n"
     ]
    },
    {
     "data": {
      "text/html": [
       "<div>\n",
       "<style scoped>\n",
       "    .dataframe tbody tr th:only-of-type {\n",
       "        vertical-align: middle;\n",
       "    }\n",
       "\n",
       "    .dataframe tbody tr th {\n",
       "        vertical-align: top;\n",
       "    }\n",
       "\n",
       "    .dataframe thead th {\n",
       "        text-align: right;\n",
       "    }\n",
       "</style>\n",
       "<table border=\"1\" class=\"dataframe\">\n",
       "  <thead>\n",
       "    <tr style=\"text-align: right;\">\n",
       "      <th></th>\n",
       "      <th>bancarizado</th>\n",
       "      <th>codigodepartamentoatencion</th>\n",
       "      <th>codigomunicipioatencion</th>\n",
       "      <th>discapacidad</th>\n",
       "      <th>estadobeneficiario</th>\n",
       "      <th>etnia</th>\n",
       "      <th>fechainscripcionbeneficiario</th>\n",
       "      <th>genero</th>\n",
       "      <th>nivelescolaridad</th>\n",
       "      <th>nombredepartamentoatencion</th>\n",
       "      <th>nombremunicipioatencion</th>\n",
       "      <th>pais</th>\n",
       "      <th>tipoasignacionbeneficio</th>\n",
       "      <th>tipobeneficio</th>\n",
       "      <th>tipodocumento</th>\n",
       "      <th>tipopoblacion</th>\n",
       "      <th>rangobeneficioconsolidadoasignado</th>\n",
       "      <th>rangoultimobeneficioasignado</th>\n",
       "      <th>fechaultimobeneficioasignado</th>\n",
       "      <th>rangoedad</th>\n",
       "      <th>titular</th>\n",
       "      <th>cantidaddebeneficiarios</th>\n",
       "    </tr>\n",
       "  </thead>\n",
       "  <tbody>\n",
       "    <tr>\n",
       "      <th>0</th>\n",
       "      <td>SI</td>\n",
       "      <td>08</td>\n",
       "      <td>08421</td>\n",
       "      <td>NO</td>\n",
       "      <td>ACTIVO</td>\n",
       "      <td>AFROCOLOMBIANO – NEGRO</td>\n",
       "      <td>2012-12-01</td>\n",
       "      <td>Hombre</td>\n",
       "      <td>ND</td>\n",
       "      <td>ATLANTICO</td>\n",
       "      <td>LURUACO</td>\n",
       "      <td>ND</td>\n",
       "      <td>MONETARIO</td>\n",
       "      <td>ND</td>\n",
       "      <td>CC</td>\n",
       "      <td>UNIDOS</td>\n",
       "      <td>4.500.001 - 6.000.000</td>\n",
       "      <td>0 - 1.300.000</td>\n",
       "      <td>2018-01-01</td>\n",
       "      <td>30-49</td>\n",
       "      <td>SI</td>\n",
       "      <td>1</td>\n",
       "    </tr>\n",
       "    <tr>\n",
       "      <th>1</th>\n",
       "      <td>NO</td>\n",
       "      <td>13</td>\n",
       "      <td>13673</td>\n",
       "      <td>NO</td>\n",
       "      <td>NO ACTIVO</td>\n",
       "      <td>ND</td>\n",
       "      <td>2012-11-01</td>\n",
       "      <td>Mujer</td>\n",
       "      <td>ND</td>\n",
       "      <td>BOLIVAR</td>\n",
       "      <td>SANTA CATALINA</td>\n",
       "      <td>ND</td>\n",
       "      <td>ND</td>\n",
       "      <td>ND</td>\n",
       "      <td>TI</td>\n",
       "      <td>ND</td>\n",
       "      <td>0 - 1.500.000</td>\n",
       "      <td>0 - 1.300.000</td>\n",
       "      <td>1900-01-01</td>\n",
       "      <td>18-29</td>\n",
       "      <td>NO</td>\n",
       "      <td>21</td>\n",
       "    </tr>\n",
       "    <tr>\n",
       "      <th>2</th>\n",
       "      <td>SI</td>\n",
       "      <td>08</td>\n",
       "      <td>08421</td>\n",
       "      <td>NO</td>\n",
       "      <td>ACTIVO</td>\n",
       "      <td>AFROCOLOMBIANO – NEGRO</td>\n",
       "      <td>2012-12-01</td>\n",
       "      <td>Hombre</td>\n",
       "      <td>ND</td>\n",
       "      <td>ATLANTICO</td>\n",
       "      <td>LURUACO</td>\n",
       "      <td>ND</td>\n",
       "      <td>MONETARIO</td>\n",
       "      <td>ND</td>\n",
       "      <td>CC</td>\n",
       "      <td>UNIDOS</td>\n",
       "      <td>4.500.001 - 6.000.000</td>\n",
       "      <td>0 - 1.300.000</td>\n",
       "      <td>2018-01-01</td>\n",
       "      <td>30-49</td>\n",
       "      <td>SI</td>\n",
       "      <td>1</td>\n",
       "    </tr>\n",
       "  </tbody>\n",
       "</table>\n",
       "</div>"
      ],
      "text/plain": [
       "  bancarizado codigodepartamentoatencion codigomunicipioatencion discapacidad estadobeneficiario  \\\n",
       "0          SI                         08                   08421           NO             ACTIVO   \n",
       "1          NO                         13                   13673           NO          NO ACTIVO   \n",
       "2          SI                         08                   08421           NO             ACTIVO   \n",
       "\n",
       "                    etnia fechainscripcionbeneficiario  genero nivelescolaridad nombredepartamentoatencion  \\\n",
       "0  AFROCOLOMBIANO – NEGRO                   2012-12-01  Hombre               ND                  ATLANTICO   \n",
       "1                      ND                   2012-11-01   Mujer               ND                    BOLIVAR   \n",
       "2  AFROCOLOMBIANO – NEGRO                   2012-12-01  Hombre               ND                  ATLANTICO   \n",
       "\n",
       "  nombremunicipioatencion pais tipoasignacionbeneficio tipobeneficio tipodocumento tipopoblacion  \\\n",
       "0                 LURUACO   ND               MONETARIO            ND            CC        UNIDOS   \n",
       "1          SANTA CATALINA   ND                      ND            ND            TI            ND   \n",
       "2                 LURUACO   ND               MONETARIO            ND            CC        UNIDOS   \n",
       "\n",
       "  rangobeneficioconsolidadoasignado rangoultimobeneficioasignado fechaultimobeneficioasignado rangoedad titular  \\\n",
       "0             4.500.001 - 6.000.000                0 - 1.300.000                   2018-01-01     30-49      SI   \n",
       "1                     0 - 1.500.000                0 - 1.300.000                   1900-01-01     18-29      NO   \n",
       "2             4.500.001 - 6.000.000                0 - 1.300.000                   2018-01-01     30-49      SI   \n",
       "\n",
       "  cantidaddebeneficiarios  \n",
       "0                       1  \n",
       "1                      21  \n",
       "2                       1  "
      ]
     },
     "execution_count": 109,
     "metadata": {},
     "output_type": "execute_result"
    }
   ],
   "source": [
    "def fetch_socrata_dataset(\n",
    "    api_url: str,\n",
    "    select: str | None = None,\n",
    "    where: str | None = None,\n",
    "    order: str | None = None,\n",
    "    limit: int = 50000,\n",
    "    max_rows: int = 100_000,\n",
    "    app_token: str | None = None,\n",
    "    sleep_s: float = 0.3,\n",
    "):\n",
    "    \"\"\"\n",
    "    Descarga un dataset Socrata (datos.gov.co) en páginas usando $limit/$offset.\n",
    "    Devuelve un DataFrame con hasta max_rows filas (o menos si el dataset es menor).\n",
    "    \"\"\"\n",
    "    headers = {}\n",
    "    if app_token:\n",
    "        headers[\"X-App-Token\"] = app_token\n",
    "\n",
    "    rows_collected = 0\n",
    "    offset = 0\n",
    "    frames = []\n",
    "\n",
    "    session = requests.Session()\n",
    "\n",
    "    while rows_collected < max_rows:\n",
    "        params = {\n",
    "            \"$limit\": min(limit, max_rows - rows_collected),\n",
    "            \"$offset\": offset\n",
    "        }\n",
    "        if select: params[\"$select\"] = select\n",
    "        if where:  params[\"$where\"] = where\n",
    "        if order:  params[\"$order\"] = order\n",
    "\n",
    "        r = session.get(api_url, params=params, headers=headers, timeout=60)\n",
    "        r.raise_for_status()\n",
    "        batch = r.json()\n",
    "\n",
    "        if not batch:\n",
    "            break\n",
    "\n",
    "        df_batch = pd.DataFrame(batch)\n",
    "        frames.append(df_batch)\n",
    "\n",
    "        n = len(df_batch)\n",
    "        rows_collected += n\n",
    "        offset += n\n",
    "\n",
    "        print(f\"Descargadas {rows_collected:,} filas...\", end=\"\\r\")\n",
    "        time.sleep(sleep_s)  # Respetar API\n",
    "\n",
    "        # Si el lote vino más pequeño que 'limit', probablemente no hay más\n",
    "        if n < params[\"$limit\"]:\n",
    "            break\n",
    "\n",
    "    if not frames:\n",
    "        return pd.DataFrame()\n",
    "\n",
    "    df = pd.concat(frames, ignore_index=True)\n",
    "    print(f\"\\n✅ Descarga completa: {len(df):,} filas.\")\n",
    "    return df\n",
    "\n",
    "# Ejecutar descarga (ajusta max_rows si quieres más/menos)\n",
    "df_raw = fetch_socrata_dataset(API_URL, max_rows=100_000, app_token=SODA_APP_TOKEN)\n",
    "df_raw.to_parquet(RAW_FILE, index=False)\n",
    "df_raw.head(3)\n"
   ]
  },
  {
   "cell_type": "code",
   "execution_count": 110,
   "id": "0e009683",
   "metadata": {},
   "outputs": [
    {
     "name": "stdout",
     "output_type": "stream",
     "text": [
      "Shape: (100000, 22)\n",
      "\n",
      "Columnas:\n",
      " ['bancarizado', 'codigodepartamentoatencion', 'codigomunicipioatencion', 'discapacidad', 'estadobeneficiario', 'etnia', 'fechainscripcionbeneficiario', 'genero', 'nivelescolaridad', 'nombredepartamentoatencion', 'nombremunicipioatencion', 'pais', 'tipoasignacionbeneficio', 'tipobeneficio', 'tipodocumento', 'tipopoblacion', 'rangobeneficioconsolidadoasignado', 'rangoultimobeneficioasignado', 'fechaultimobeneficioasignado', 'rangoedad', 'titular', 'cantidaddebeneficiarios']\n",
      "\n",
      "Tipos inferidos por pandas:\n",
      "\n"
     ]
    },
    {
     "data": {
      "text/plain": [
       "bancarizado                          string[python]\n",
       "codigodepartamentoatencion           string[python]\n",
       "codigomunicipioatencion              string[python]\n",
       "discapacidad                         string[python]\n",
       "estadobeneficiario                   string[python]\n",
       "etnia                                string[python]\n",
       "fechainscripcionbeneficiario         string[python]\n",
       "genero                               string[python]\n",
       "nivelescolaridad                     string[python]\n",
       "nombredepartamentoatencion           string[python]\n",
       "nombremunicipioatencion              string[python]\n",
       "pais                                 string[python]\n",
       "tipoasignacionbeneficio              string[python]\n",
       "tipobeneficio                        string[python]\n",
       "tipodocumento                        string[python]\n",
       "tipopoblacion                        string[python]\n",
       "rangobeneficioconsolidadoasignado    string[python]\n",
       "rangoultimobeneficioasignado         string[python]\n",
       "fechaultimobeneficioasignado         string[python]\n",
       "rangoedad                            string[python]\n",
       "titular                              string[python]\n",
       "cantidaddebeneficiarios              string[python]\n",
       "dtype: object"
      ]
     },
     "metadata": {},
     "output_type": "display_data"
    },
    {
     "data": {
      "text/html": [
       "<div>\n",
       "<style scoped>\n",
       "    .dataframe tbody tr th:only-of-type {\n",
       "        vertical-align: middle;\n",
       "    }\n",
       "\n",
       "    .dataframe tbody tr th {\n",
       "        vertical-align: top;\n",
       "    }\n",
       "\n",
       "    .dataframe thead th {\n",
       "        text-align: right;\n",
       "    }\n",
       "</style>\n",
       "<table border=\"1\" class=\"dataframe\">\n",
       "  <thead>\n",
       "    <tr style=\"text-align: right;\">\n",
       "      <th></th>\n",
       "      <th>bancarizado</th>\n",
       "      <th>codigodepartamentoatencion</th>\n",
       "      <th>codigomunicipioatencion</th>\n",
       "      <th>discapacidad</th>\n",
       "      <th>estadobeneficiario</th>\n",
       "      <th>etnia</th>\n",
       "      <th>fechainscripcionbeneficiario</th>\n",
       "      <th>genero</th>\n",
       "      <th>nivelescolaridad</th>\n",
       "      <th>nombredepartamentoatencion</th>\n",
       "      <th>nombremunicipioatencion</th>\n",
       "      <th>pais</th>\n",
       "      <th>tipoasignacionbeneficio</th>\n",
       "      <th>tipobeneficio</th>\n",
       "      <th>tipodocumento</th>\n",
       "      <th>tipopoblacion</th>\n",
       "      <th>rangobeneficioconsolidadoasignado</th>\n",
       "      <th>rangoultimobeneficioasignado</th>\n",
       "      <th>fechaultimobeneficioasignado</th>\n",
       "      <th>rangoedad</th>\n",
       "      <th>titular</th>\n",
       "      <th>cantidaddebeneficiarios</th>\n",
       "    </tr>\n",
       "  </thead>\n",
       "  <tbody>\n",
       "    <tr>\n",
       "      <th>0</th>\n",
       "      <td>SI</td>\n",
       "      <td>08</td>\n",
       "      <td>08421</td>\n",
       "      <td>NO</td>\n",
       "      <td>ACTIVO</td>\n",
       "      <td>AFROCOLOMBIANO – NEGRO</td>\n",
       "      <td>2012-12-01</td>\n",
       "      <td>Hombre</td>\n",
       "      <td>ND</td>\n",
       "      <td>ATLANTICO</td>\n",
       "      <td>LURUACO</td>\n",
       "      <td>ND</td>\n",
       "      <td>MONETARIO</td>\n",
       "      <td>ND</td>\n",
       "      <td>CC</td>\n",
       "      <td>UNIDOS</td>\n",
       "      <td>4.500.001 - 6.000.000</td>\n",
       "      <td>0 - 1.300.000</td>\n",
       "      <td>2018-01-01</td>\n",
       "      <td>30-49</td>\n",
       "      <td>SI</td>\n",
       "      <td>1</td>\n",
       "    </tr>\n",
       "    <tr>\n",
       "      <th>1</th>\n",
       "      <td>NO</td>\n",
       "      <td>13</td>\n",
       "      <td>13673</td>\n",
       "      <td>NO</td>\n",
       "      <td>NO ACTIVO</td>\n",
       "      <td>ND</td>\n",
       "      <td>2012-11-01</td>\n",
       "      <td>Mujer</td>\n",
       "      <td>ND</td>\n",
       "      <td>BOLIVAR</td>\n",
       "      <td>SANTA CATALINA</td>\n",
       "      <td>ND</td>\n",
       "      <td>ND</td>\n",
       "      <td>ND</td>\n",
       "      <td>TI</td>\n",
       "      <td>ND</td>\n",
       "      <td>0 - 1.500.000</td>\n",
       "      <td>0 - 1.300.000</td>\n",
       "      <td>1900-01-01</td>\n",
       "      <td>18-29</td>\n",
       "      <td>NO</td>\n",
       "      <td>21</td>\n",
       "    </tr>\n",
       "    <tr>\n",
       "      <th>2</th>\n",
       "      <td>SI</td>\n",
       "      <td>08</td>\n",
       "      <td>08421</td>\n",
       "      <td>NO</td>\n",
       "      <td>ACTIVO</td>\n",
       "      <td>AFROCOLOMBIANO – NEGRO</td>\n",
       "      <td>2012-12-01</td>\n",
       "      <td>Hombre</td>\n",
       "      <td>ND</td>\n",
       "      <td>ATLANTICO</td>\n",
       "      <td>LURUACO</td>\n",
       "      <td>ND</td>\n",
       "      <td>MONETARIO</td>\n",
       "      <td>ND</td>\n",
       "      <td>CC</td>\n",
       "      <td>UNIDOS</td>\n",
       "      <td>4.500.001 - 6.000.000</td>\n",
       "      <td>0 - 1.300.000</td>\n",
       "      <td>2018-01-01</td>\n",
       "      <td>30-49</td>\n",
       "      <td>SI</td>\n",
       "      <td>1</td>\n",
       "    </tr>\n",
       "    <tr>\n",
       "      <th>3</th>\n",
       "      <td>SI</td>\n",
       "      <td>08</td>\n",
       "      <td>08421</td>\n",
       "      <td>NO</td>\n",
       "      <td>ACTIVO</td>\n",
       "      <td>AFROCOLOMBIANO – NEGRO</td>\n",
       "      <td>2012-12-01</td>\n",
       "      <td>Hombre</td>\n",
       "      <td>ND</td>\n",
       "      <td>ATLANTICO</td>\n",
       "      <td>LURUACO</td>\n",
       "      <td>ND</td>\n",
       "      <td>MONETARIO</td>\n",
       "      <td>ND</td>\n",
       "      <td>CC</td>\n",
       "      <td>UNIDOS</td>\n",
       "      <td>4.500.001 - 6.000.000</td>\n",
       "      <td>0 - 1.300.000</td>\n",
       "      <td>2018-01-01</td>\n",
       "      <td>30-49</td>\n",
       "      <td>SI</td>\n",
       "      <td>1</td>\n",
       "    </tr>\n",
       "    <tr>\n",
       "      <th>4</th>\n",
       "      <td>SI</td>\n",
       "      <td>08</td>\n",
       "      <td>08421</td>\n",
       "      <td>NO</td>\n",
       "      <td>ACTIVO</td>\n",
       "      <td>AFROCOLOMBIANO – NEGRO</td>\n",
       "      <td>2012-12-01</td>\n",
       "      <td>Hombre</td>\n",
       "      <td>ND</td>\n",
       "      <td>ATLANTICO</td>\n",
       "      <td>LURUACO</td>\n",
       "      <td>ND</td>\n",
       "      <td>MONETARIO</td>\n",
       "      <td>ND</td>\n",
       "      <td>CC</td>\n",
       "      <td>UNIDOS</td>\n",
       "      <td>4.500.001 - 6.000.000</td>\n",
       "      <td>0 - 1.300.000</td>\n",
       "      <td>2018-01-01</td>\n",
       "      <td>30-49</td>\n",
       "      <td>SI</td>\n",
       "      <td>1</td>\n",
       "    </tr>\n",
       "    <tr>\n",
       "      <th>5</th>\n",
       "      <td>NO</td>\n",
       "      <td>41</td>\n",
       "      <td>41770</td>\n",
       "      <td>NO</td>\n",
       "      <td>ACTIVO</td>\n",
       "      <td>ND</td>\n",
       "      <td>2012-11-01</td>\n",
       "      <td>Hombre</td>\n",
       "      <td>PRIMARIA</td>\n",
       "      <td>HUILA</td>\n",
       "      <td>SUAZA</td>\n",
       "      <td>ND</td>\n",
       "      <td>ND</td>\n",
       "      <td>EDUCACIÓN PRIMARIANUTRICIÓN MENOR</td>\n",
       "      <td>RC</td>\n",
       "      <td>SISBEN</td>\n",
       "      <td>0 - 1.500.000</td>\n",
       "      <td>0 - 1.300.000</td>\n",
       "      <td>1900-01-01</td>\n",
       "      <td>06-17</td>\n",
       "      <td>NO</td>\n",
       "      <td>2</td>\n",
       "    </tr>\n",
       "    <tr>\n",
       "      <th>6</th>\n",
       "      <td>ND</td>\n",
       "      <td>47</td>\n",
       "      <td>47318</td>\n",
       "      <td>NO</td>\n",
       "      <td>ACTIVO</td>\n",
       "      <td>ND</td>\n",
       "      <td>2012-12-01</td>\n",
       "      <td>Mujer</td>\n",
       "      <td>ND</td>\n",
       "      <td>MAGDALENA</td>\n",
       "      <td>GUAMAL</td>\n",
       "      <td>Colombia</td>\n",
       "      <td>MONETARIO</td>\n",
       "      <td>ND</td>\n",
       "      <td>CC</td>\n",
       "      <td>SISBEN</td>\n",
       "      <td>&gt; 6.000.001</td>\n",
       "      <td>0 - 1.300.000</td>\n",
       "      <td>2018-01-01</td>\n",
       "      <td>30-49</td>\n",
       "      <td>SI</td>\n",
       "      <td>1</td>\n",
       "    </tr>\n",
       "    <tr>\n",
       "      <th>7</th>\n",
       "      <td>ND</td>\n",
       "      <td>73</td>\n",
       "      <td>73217</td>\n",
       "      <td>NO</td>\n",
       "      <td>ACTIVO</td>\n",
       "      <td>ND</td>\n",
       "      <td>2013-02-01</td>\n",
       "      <td>Mujer</td>\n",
       "      <td>ND</td>\n",
       "      <td>TOLIMA</td>\n",
       "      <td>COYAIMA</td>\n",
       "      <td>ND</td>\n",
       "      <td>ND</td>\n",
       "      <td>NUTRICIÓN MENOR</td>\n",
       "      <td>No Definido</td>\n",
       "      <td>INDIGENAS</td>\n",
       "      <td>0 - 1.500.000</td>\n",
       "      <td>0 - 1.300.000</td>\n",
       "      <td>1900-01-01</td>\n",
       "      <td>06-17</td>\n",
       "      <td>NO</td>\n",
       "      <td>1</td>\n",
       "    </tr>\n",
       "    <tr>\n",
       "      <th>8</th>\n",
       "      <td>NO</td>\n",
       "      <td>95</td>\n",
       "      <td>95001</td>\n",
       "      <td>NO</td>\n",
       "      <td>ACTIVO</td>\n",
       "      <td>ND</td>\n",
       "      <td>2014-05-01</td>\n",
       "      <td>Hombre</td>\n",
       "      <td>ND</td>\n",
       "      <td>GUAVIARE</td>\n",
       "      <td>SAN JOSE DEL GUAVIARE</td>\n",
       "      <td>ND</td>\n",
       "      <td>ND</td>\n",
       "      <td>NUTRICIÓN MENOR</td>\n",
       "      <td>RC</td>\n",
       "      <td>DESPLAZADOS</td>\n",
       "      <td>0 - 1.500.000</td>\n",
       "      <td>0 - 1.300.000</td>\n",
       "      <td>1900-01-01</td>\n",
       "      <td>06-17</td>\n",
       "      <td>NO</td>\n",
       "      <td>5</td>\n",
       "    </tr>\n",
       "    <tr>\n",
       "      <th>9</th>\n",
       "      <td>NO</td>\n",
       "      <td>85</td>\n",
       "      <td>85001</td>\n",
       "      <td>NO</td>\n",
       "      <td>ACTIVO</td>\n",
       "      <td>ND</td>\n",
       "      <td>2012-10-01</td>\n",
       "      <td>Mujer</td>\n",
       "      <td>ND</td>\n",
       "      <td>CASANARE</td>\n",
       "      <td>YOPAL</td>\n",
       "      <td>ND</td>\n",
       "      <td>MONETARIO</td>\n",
       "      <td>ND</td>\n",
       "      <td>CC</td>\n",
       "      <td>SISBEN</td>\n",
       "      <td>1.500.001 - 3.000.000</td>\n",
       "      <td>0 - 1.300.000</td>\n",
       "      <td>2018-01-01</td>\n",
       "      <td>50-65</td>\n",
       "      <td>SI</td>\n",
       "      <td>4</td>\n",
       "    </tr>\n",
       "  </tbody>\n",
       "</table>\n",
       "</div>"
      ],
      "text/plain": [
       "  bancarizado codigodepartamentoatencion codigomunicipioatencion discapacidad estadobeneficiario  \\\n",
       "0          SI                         08                   08421           NO             ACTIVO   \n",
       "1          NO                         13                   13673           NO          NO ACTIVO   \n",
       "2          SI                         08                   08421           NO             ACTIVO   \n",
       "3          SI                         08                   08421           NO             ACTIVO   \n",
       "4          SI                         08                   08421           NO             ACTIVO   \n",
       "5          NO                         41                   41770           NO             ACTIVO   \n",
       "6          ND                         47                   47318           NO             ACTIVO   \n",
       "7          ND                         73                   73217           NO             ACTIVO   \n",
       "8          NO                         95                   95001           NO             ACTIVO   \n",
       "9          NO                         85                   85001           NO             ACTIVO   \n",
       "\n",
       "                    etnia fechainscripcionbeneficiario  genero nivelescolaridad nombredepartamentoatencion  \\\n",
       "0  AFROCOLOMBIANO – NEGRO                   2012-12-01  Hombre               ND                  ATLANTICO   \n",
       "1                      ND                   2012-11-01   Mujer               ND                    BOLIVAR   \n",
       "2  AFROCOLOMBIANO – NEGRO                   2012-12-01  Hombre               ND                  ATLANTICO   \n",
       "3  AFROCOLOMBIANO – NEGRO                   2012-12-01  Hombre               ND                  ATLANTICO   \n",
       "4  AFROCOLOMBIANO – NEGRO                   2012-12-01  Hombre               ND                  ATLANTICO   \n",
       "5                      ND                   2012-11-01  Hombre         PRIMARIA                      HUILA   \n",
       "6                      ND                   2012-12-01   Mujer               ND                  MAGDALENA   \n",
       "7                      ND                   2013-02-01   Mujer               ND                     TOLIMA   \n",
       "8                      ND                   2014-05-01  Hombre               ND                   GUAVIARE   \n",
       "9                      ND                   2012-10-01   Mujer               ND                   CASANARE   \n",
       "\n",
       "  nombremunicipioatencion      pais tipoasignacionbeneficio                      tipobeneficio tipodocumento  \\\n",
       "0                 LURUACO        ND               MONETARIO                                 ND            CC   \n",
       "1          SANTA CATALINA        ND                      ND                                 ND            TI   \n",
       "2                 LURUACO        ND               MONETARIO                                 ND            CC   \n",
       "3                 LURUACO        ND               MONETARIO                                 ND            CC   \n",
       "4                 LURUACO        ND               MONETARIO                                 ND            CC   \n",
       "5                   SUAZA        ND                      ND  EDUCACIÓN PRIMARIANUTRICIÓN MENOR            RC   \n",
       "6                  GUAMAL  Colombia               MONETARIO                                 ND            CC   \n",
       "7                 COYAIMA        ND                      ND                    NUTRICIÓN MENOR   No Definido   \n",
       "8   SAN JOSE DEL GUAVIARE        ND                      ND                    NUTRICIÓN MENOR            RC   \n",
       "9                   YOPAL        ND               MONETARIO                                 ND            CC   \n",
       "\n",
       "  tipopoblacion rangobeneficioconsolidadoasignado rangoultimobeneficioasignado fechaultimobeneficioasignado rangoedad  \\\n",
       "0        UNIDOS             4.500.001 - 6.000.000                0 - 1.300.000                   2018-01-01     30-49   \n",
       "1            ND                     0 - 1.500.000                0 - 1.300.000                   1900-01-01     18-29   \n",
       "2        UNIDOS             4.500.001 - 6.000.000                0 - 1.300.000                   2018-01-01     30-49   \n",
       "3        UNIDOS             4.500.001 - 6.000.000                0 - 1.300.000                   2018-01-01     30-49   \n",
       "4        UNIDOS             4.500.001 - 6.000.000                0 - 1.300.000                   2018-01-01     30-49   \n",
       "5        SISBEN                     0 - 1.500.000                0 - 1.300.000                   1900-01-01     06-17   \n",
       "6        SISBEN                       > 6.000.001                0 - 1.300.000                   2018-01-01     30-49   \n",
       "7     INDIGENAS                     0 - 1.500.000                0 - 1.300.000                   1900-01-01     06-17   \n",
       "8   DESPLAZADOS                     0 - 1.500.000                0 - 1.300.000                   1900-01-01     06-17   \n",
       "9        SISBEN             1.500.001 - 3.000.000                0 - 1.300.000                   2018-01-01     50-65   \n",
       "\n",
       "  titular cantidaddebeneficiarios  \n",
       "0      SI                       1  \n",
       "1      NO                      21  \n",
       "2      SI                       1  \n",
       "3      SI                       1  \n",
       "4      SI                       1  \n",
       "5      NO                       2  \n",
       "6      SI                       1  \n",
       "7      NO                       1  \n",
       "8      NO                       5  \n",
       "9      SI                       4  "
      ]
     },
     "metadata": {},
     "output_type": "display_data"
    },
    {
     "data": {
      "text/html": [
       "<div>\n",
       "<style scoped>\n",
       "    .dataframe tbody tr th:only-of-type {\n",
       "        vertical-align: middle;\n",
       "    }\n",
       "\n",
       "    .dataframe tbody tr th {\n",
       "        vertical-align: top;\n",
       "    }\n",
       "\n",
       "    .dataframe thead th {\n",
       "        text-align: right;\n",
       "    }\n",
       "</style>\n",
       "<table border=\"1\" class=\"dataframe\">\n",
       "  <thead>\n",
       "    <tr style=\"text-align: right;\">\n",
       "      <th></th>\n",
       "      <th>pct_nulls</th>\n",
       "    </tr>\n",
       "  </thead>\n",
       "  <tbody>\n",
       "    <tr>\n",
       "      <th>bancarizado</th>\n",
       "      <td>1.86</td>\n",
       "    </tr>\n",
       "    <tr>\n",
       "      <th>codigodepartamentoatencion</th>\n",
       "      <td>0.00</td>\n",
       "    </tr>\n",
       "    <tr>\n",
       "      <th>codigomunicipioatencion</th>\n",
       "      <td>0.00</td>\n",
       "    </tr>\n",
       "    <tr>\n",
       "      <th>discapacidad</th>\n",
       "      <td>0.00</td>\n",
       "    </tr>\n",
       "    <tr>\n",
       "      <th>estadobeneficiario</th>\n",
       "      <td>0.00</td>\n",
       "    </tr>\n",
       "    <tr>\n",
       "      <th>etnia</th>\n",
       "      <td>0.00</td>\n",
       "    </tr>\n",
       "    <tr>\n",
       "      <th>fechainscripcionbeneficiario</th>\n",
       "      <td>0.00</td>\n",
       "    </tr>\n",
       "    <tr>\n",
       "      <th>genero</th>\n",
       "      <td>0.00</td>\n",
       "    </tr>\n",
       "    <tr>\n",
       "      <th>nivelescolaridad</th>\n",
       "      <td>0.00</td>\n",
       "    </tr>\n",
       "    <tr>\n",
       "      <th>nombredepartamentoatencion</th>\n",
       "      <td>0.00</td>\n",
       "    </tr>\n",
       "    <tr>\n",
       "      <th>nombremunicipioatencion</th>\n",
       "      <td>0.00</td>\n",
       "    </tr>\n",
       "    <tr>\n",
       "      <th>pais</th>\n",
       "      <td>0.00</td>\n",
       "    </tr>\n",
       "    <tr>\n",
       "      <th>tipoasignacionbeneficio</th>\n",
       "      <td>0.00</td>\n",
       "    </tr>\n",
       "    <tr>\n",
       "      <th>tipobeneficio</th>\n",
       "      <td>0.00</td>\n",
       "    </tr>\n",
       "    <tr>\n",
       "      <th>tipodocumento</th>\n",
       "      <td>0.00</td>\n",
       "    </tr>\n",
       "    <tr>\n",
       "      <th>tipopoblacion</th>\n",
       "      <td>0.00</td>\n",
       "    </tr>\n",
       "    <tr>\n",
       "      <th>rangobeneficioconsolidadoasignado</th>\n",
       "      <td>0.00</td>\n",
       "    </tr>\n",
       "    <tr>\n",
       "      <th>rangoultimobeneficioasignado</th>\n",
       "      <td>0.00</td>\n",
       "    </tr>\n",
       "    <tr>\n",
       "      <th>fechaultimobeneficioasignado</th>\n",
       "      <td>0.00</td>\n",
       "    </tr>\n",
       "    <tr>\n",
       "      <th>rangoedad</th>\n",
       "      <td>0.00</td>\n",
       "    </tr>\n",
       "  </tbody>\n",
       "</table>\n",
       "</div>"
      ],
      "text/plain": [
       "                                   pct_nulls\n",
       "bancarizado                             1.86\n",
       "codigodepartamentoatencion              0.00\n",
       "codigomunicipioatencion                 0.00\n",
       "discapacidad                            0.00\n",
       "estadobeneficiario                      0.00\n",
       "etnia                                   0.00\n",
       "fechainscripcionbeneficiario            0.00\n",
       "genero                                  0.00\n",
       "nivelescolaridad                        0.00\n",
       "nombredepartamentoatencion              0.00\n",
       "nombremunicipioatencion                 0.00\n",
       "pais                                    0.00\n",
       "tipoasignacionbeneficio                 0.00\n",
       "tipobeneficio                           0.00\n",
       "tipodocumento                           0.00\n",
       "tipopoblacion                           0.00\n",
       "rangobeneficioconsolidadoasignado       0.00\n",
       "rangoultimobeneficioasignado            0.00\n",
       "fechaultimobeneficioasignado            0.00\n",
       "rangoedad                               0.00"
      ]
     },
     "metadata": {},
     "output_type": "display_data"
    }
   ],
   "source": [
    "print(\"Shape:\", df_raw.shape)\n",
    "print(\"\\nColumnas:\\n\", list(df_raw.columns))\n",
    "\n",
    "print(\"\\nTipos inferidos por pandas:\\n\")\n",
    "display(df_raw.convert_dtypes().dtypes)\n",
    "\n",
    "# Muestra de registros\n",
    "display(df_raw.head(10))\n",
    "\n",
    "# % de nulos por columna\n",
    "nulls = (df_raw.isna().mean().sort_values(ascending=False) * 100).round(2)\n",
    "display(nulls.to_frame(\"pct_nulls\").head(20))\n"
   ]
  },
  {
   "cell_type": "code",
   "execution_count": 111,
   "id": "efec6c33",
   "metadata": {},
   "outputs": [
    {
     "name": "stdout",
     "output_type": "stream",
     "text": [
      "<class 'pandas.core.frame.DataFrame'>\n",
      "Index: 48679 entries, 0 to 99999\n",
      "Data columns (total 22 columns):\n",
      " #   Column                             Non-Null Count  Dtype         \n",
      "---  ------                             --------------  -----         \n",
      " 0   bancarizado                        46850 non-null  object        \n",
      " 1   codigodepartamentoatencion         48679 non-null  int64         \n",
      " 2   codigomunicipioatencion            48679 non-null  int64         \n",
      " 3   discapacidad                       48679 non-null  object        \n",
      " 4   estadobeneficiario                 48679 non-null  object        \n",
      " 5   etnia                              48679 non-null  object        \n",
      " 6   fechainscripcionbeneficiario       48679 non-null  datetime64[ns]\n",
      " 7   genero                             48679 non-null  object        \n",
      " 8   nivelescolaridad                   48679 non-null  object        \n",
      " 9   nombredepartamentoatencion         48679 non-null  object        \n",
      " 10  nombremunicipioatencion            48679 non-null  object        \n",
      " 11  pais                               48679 non-null  object        \n",
      " 12  tipoasignacionbeneficio            48679 non-null  object        \n",
      " 13  tipobeneficio                      48679 non-null  object        \n",
      " 14  tipodocumento                      48679 non-null  object        \n",
      " 15  tipopoblacion                      48679 non-null  object        \n",
      " 16  rangobeneficioconsolidadoasignado  48679 non-null  object        \n",
      " 17  rangoultimobeneficioasignado       48679 non-null  object        \n",
      " 18  fechaultimobeneficioasignado       48679 non-null  datetime64[ns]\n",
      " 19  rangoedad                          48679 non-null  object        \n",
      " 20  titular                            48679 non-null  object        \n",
      " 21  cantidaddebeneficiarios            48679 non-null  int64         \n",
      "dtypes: datetime64[ns](2), int64(3), object(17)\n",
      "memory usage: 8.5+ MB\n"
     ]
    }
   ],
   "source": [
    "def standardize_columns(columns):\n",
    "    out = []\n",
    "    for c in columns:\n",
    "        c2 = (\n",
    "            str(c)\n",
    "            .strip()\n",
    "            .lower()\n",
    "            .replace(\" \", \"_\")\n",
    "            .replace(\"-\", \"_\")\n",
    "            .replace(\"/\", \"_\")\n",
    "        )\n",
    "        c2 = re.sub(r\"[^a-z0-9_]\", \"\", c2)\n",
    "        c2 = re.sub(r\"_+\", \"_\", c2).strip(\"_\")\n",
    "        out.append(c2)\n",
    "    return out\n",
    "\n",
    "def is_mostly_numeric(series, threshold=0.8):\n",
    "    s = series.dropna().astype(str)\n",
    "    if len(s) == 0:\n",
    "        return False\n",
    "    numeric_like = s.str.match(r\"^-?\\d+(\\.\\d+)?$\")\n",
    "    return numeric_like.mean() >= threshold\n",
    "\n",
    "def parse_candidate_dates(df):\n",
    "    date_patterns = (\"fecha\", \"date\", \"fec_\", \"_fec\", \"fech\")\n",
    "    for col in df.columns:\n",
    "        if any(pat in col for pat in date_patterns):\n",
    "            try:\n",
    "                df[col] = pd.to_datetime(df[col], errors=\"coerce\", utc=False)\n",
    "            except Exception:\n",
    "                pass\n",
    "    return df\n",
    "\n",
    "def cast_numeric_columns(df):\n",
    "    for col in df.columns:\n",
    "        if df[col].dtype == \"object\" and is_mostly_numeric(df[col], threshold=0.7):\n",
    "            df[col] = pd.to_numeric(df[col], errors=\"coerce\")\n",
    "    return df\n",
    "\n",
    "def basic_clean(df):\n",
    "    df = df.copy()\n",
    "    df.columns = standardize_columns(df.columns)\n",
    "    # Elimina duplicados exactos (si aplica)\n",
    "    df = df.drop_duplicates()\n",
    "    # Casts\n",
    "    df = cast_numeric_columns(df)\n",
    "    df = parse_candidate_dates(df)\n",
    "    return df\n",
    "\n",
    "df = basic_clean(df_raw)\n",
    "df.to_parquet(PROC_FILE, index=False)\n",
    "df.info()\n"
   ]
  },
  {
   "cell_type": "code",
   "execution_count": 112,
   "id": "0d58a10f",
   "metadata": {},
   "outputs": [
    {
     "name": "stdout",
     "output_type": "stream",
     "text": [
      "\n",
      "== bancarizado ==\n"
     ]
    },
    {
     "data": {
      "text/plain": [
       "bancarizado\n",
       "NO     26400\n",
       "ND     12972\n",
       "SI      7478\n",
       "NaN     1829\n",
       "Name: count, dtype: int64"
      ]
     },
     "metadata": {},
     "output_type": "display_data"
    },
    {
     "name": "stdout",
     "output_type": "stream",
     "text": [
      "\n",
      "== discapacidad ==\n"
     ]
    },
    {
     "data": {
      "text/plain": [
       "discapacidad\n",
       "NO    39843\n",
       "ND     8132\n",
       "SI      704\n",
       "Name: count, dtype: int64"
      ]
     },
     "metadata": {},
     "output_type": "display_data"
    },
    {
     "name": "stdout",
     "output_type": "stream",
     "text": [
      "\n",
      "== estadobeneficiario ==\n"
     ]
    },
    {
     "data": {
      "text/plain": [
       "estadobeneficiario\n",
       "ACTIVO       40380\n",
       "NO ACTIVO     8299\n",
       "Name: count, dtype: int64"
      ]
     },
     "metadata": {},
     "output_type": "display_data"
    },
    {
     "name": "stdout",
     "output_type": "stream",
     "text": [
      "\n",
      "== etnia ==\n"
     ]
    },
    {
     "data": {
      "text/plain": [
       "etnia\n",
       "ND                        41588\n",
       "AFROCOLOMBIANO – NEGRO     3498\n",
       "INDIGENA                   3193\n",
       "MESTIZO                     111\n",
       "RAIZAL                       65\n",
       "AFROCOLOMBIANO - NEGRO       61\n",
       "PALENQUERO                   55\n",
       "ROM                          51\n",
       "ROM O GITANO                 50\n",
       "AFROCOLOMBIANO                7\n",
       "Name: count, dtype: int64"
      ]
     },
     "metadata": {},
     "output_type": "display_data"
    },
    {
     "name": "stdout",
     "output_type": "stream",
     "text": [
      "\n",
      "== genero ==\n"
     ]
    },
    {
     "data": {
      "text/plain": [
       "genero\n",
       "Mujer     30636\n",
       "Hombre    17931\n",
       "ND          112\n",
       "Name: count, dtype: int64"
      ]
     },
     "metadata": {},
     "output_type": "display_data"
    },
    {
     "name": "stdout",
     "output_type": "stream",
     "text": [
      "\n",
      "== nivelescolaridad ==\n"
     ]
    },
    {
     "data": {
      "text/plain": [
       "nivelescolaridad\n",
       "ND                 38455\n",
       "PRIMARIA            3882\n",
       "TRANSICION          3420\n",
       "SECUNDARIA          2526\n",
       "SIN ESPECIFICAR      380\n",
       "TECNICO                9\n",
       "TECNOLOGO              6\n",
       "POSGRADO               1\n",
       "Name: count, dtype: int64"
      ]
     },
     "metadata": {},
     "output_type": "display_data"
    },
    {
     "name": "stdout",
     "output_type": "stream",
     "text": [
      "\n",
      "== nombredepartamentoatencion ==\n"
     ]
    },
    {
     "data": {
      "text/plain": [
       "nombredepartamentoatencion\n",
       "ANTIOQUIA       5686\n",
       "NARIÑO          2874\n",
       "CORDOBA         2864\n",
       "BOLIVAR         2683\n",
       "CAUCA           2621\n",
       "MAGDALENA       2232\n",
       "VALLE           2204\n",
       "TOLIMA          2188\n",
       "CUNDINAMARCA    2142\n",
       "CESAR           2021\n",
       "Name: count, dtype: int64"
      ]
     },
     "metadata": {},
     "output_type": "display_data"
    },
    {
     "name": "stdout",
     "output_type": "stream",
     "text": [
      "\n",
      "== pais ==\n"
     ]
    },
    {
     "data": {
      "text/plain": [
       "pais\n",
       "ND            33950\n",
       "Colombia      13768\n",
       "COLOMBIA        843\n",
       "169             101\n",
       "57               14\n",
       "Colombiano        2\n",
       "NULL              1\n",
       "Name: count, dtype: int64"
      ]
     },
     "metadata": {},
     "output_type": "display_data"
    },
    {
     "name": "stdout",
     "output_type": "stream",
     "text": [
      "\n",
      "== tipoasignacionbeneficio ==\n"
     ]
    },
    {
     "data": {
      "text/plain": [
       "tipoasignacionbeneficio\n",
       "ND           31081\n",
       "MONETARIO    17598\n",
       "Name: count, dtype: int64"
      ]
     },
     "metadata": {},
     "output_type": "display_data"
    },
    {
     "name": "stdout",
     "output_type": "stream",
     "text": [
      "\n",
      "== tipobeneficio ==\n"
     ]
    },
    {
     "data": {
      "text/plain": [
       "tipobeneficio\n",
       "ND                                   26926\n",
       "EDUCACIÓN PRIMARIA                    5338\n",
       "NUTRICIÓN MENOR                       5309\n",
       "EDUCACIÓN SECUNDARIA                  3235\n",
       "TRANSICIÓNNUTRICIÓN MENOR             2915\n",
       "NUTRICIÓN                             2694\n",
       "TRANSICIÓN                            1368\n",
       "EDUCACIÓN PRIMARIANUTRICIÓN MENOR      859\n",
       "EDUCACIÓN SECUNDARIANUTRICIÓN           33\n",
       "EDUCACIÓN PRIMARIANUTRICIÓN              2\n",
       "Name: count, dtype: int64"
      ]
     },
     "metadata": {},
     "output_type": "display_data"
    },
    {
     "name": "stdout",
     "output_type": "stream",
     "text": [
      "\n",
      "== tipodocumento ==\n"
     ]
    },
    {
     "data": {
      "text/plain": [
       "tipodocumento\n",
       "CC             21565\n",
       "RC             15796\n",
       "TI             10183\n",
       "No Definido     1123\n",
       "CE                12\n",
       "Name: count, dtype: int64"
      ]
     },
     "metadata": {},
     "output_type": "display_data"
    },
    {
     "name": "stdout",
     "output_type": "stream",
     "text": [
      "\n",
      "== tipopoblacion ==\n"
     ]
    },
    {
     "data": {
      "text/plain": [
       "tipopoblacion\n",
       "DESPLAZADOS    20186\n",
       "SISBEN         14665\n",
       "UNIDOS          9141\n",
       "INDIGENAS       2414\n",
       "ND              2265\n",
       "TRANSICION         8\n",
       "Name: count, dtype: int64"
      ]
     },
     "metadata": {},
     "output_type": "display_data"
    },
    {
     "name": "stdout",
     "output_type": "stream",
     "text": [
      "\n",
      "== rangobeneficioconsolidadoasignado ==\n"
     ]
    },
    {
     "data": {
      "text/plain": [
       "rangobeneficioconsolidadoasignado\n",
       "0 - 1.500.000            36137\n",
       "1.500.001 - 3.000.000     4723\n",
       "3.000.001 - 4.500.000     3492\n",
       "4.500.001 - 6.000.000     2620\n",
       "> 6.000.001               1707\n",
       "Name: count, dtype: int64"
      ]
     },
     "metadata": {},
     "output_type": "display_data"
    },
    {
     "name": "stdout",
     "output_type": "stream",
     "text": [
      "\n",
      "== rangoultimobeneficioasignado ==\n"
     ]
    },
    {
     "data": {
      "text/plain": [
       "rangoultimobeneficioasignado\n",
       "0 - 1.300.000            48677\n",
       "1.300.001 - 2.600.000        2\n",
       "Name: count, dtype: int64"
      ]
     },
     "metadata": {},
     "output_type": "display_data"
    },
    {
     "name": "stdout",
     "output_type": "stream",
     "text": [
      "\n",
      "== rangoedad ==\n"
     ]
    },
    {
     "data": {
      "text/plain": [
       "rangoedad\n",
       "06-17    19039\n",
       "18-29    13375\n",
       "30-49     9261\n",
       "50-65     5027\n",
       ">65       1977\n",
       "Name: count, dtype: int64"
      ]
     },
     "metadata": {},
     "output_type": "display_data"
    },
    {
     "name": "stdout",
     "output_type": "stream",
     "text": [
      "\n",
      "== titular ==\n"
     ]
    },
    {
     "data": {
      "text/plain": [
       "titular\n",
       "NO    31382\n",
       "SI    17297\n",
       "Name: count, dtype: int64"
      ]
     },
     "metadata": {},
     "output_type": "display_data"
    }
   ],
   "source": [
    "def top_counts_for_categoricals(df, max_unique=50, topn=10):\n",
    "    stats = {}\n",
    "    for col in df.columns:\n",
    "        nunique = df[col].nunique(dropna=True)\n",
    "        if df[col].dtype == \"object\" and 1 <= nunique <= max_unique:\n",
    "            vc = df[col].value_counts(dropna=False).head(topn)\n",
    "            stats[col] = vc\n",
    "    return stats\n",
    "\n",
    "cat_stats = top_counts_for_categoricals(df, max_unique=80, topn=10)\n",
    "for col, vc in cat_stats.items():\n",
    "    print(f\"\\n== {col} ==\")\n",
    "    display(vc)\n",
    "\n",
    "if not cat_stats:\n",
    "    print(\"No se detectaron columnas categóricas de baja cardinalidad.\")\n"
   ]
  },
  {
   "cell_type": "code",
   "execution_count": 113,
   "id": "9ce5e871",
   "metadata": {},
   "outputs": [
    {
     "name": "stdout",
     "output_type": "stream",
     "text": [
      "Detectado departamento: codigodepartamentoatencion\n",
      "Detectado municipio: codigomunicipioatencion\n"
     ]
    },
    {
     "data": {
      "text/plain": [
       "codigodepartamentoatencion\n",
       "5     5686\n",
       "52    2874\n",
       "23    2864\n",
       "13    2683\n",
       "19    2621\n",
       "47    2232\n",
       "76    2204\n",
       "73    2188\n",
       "25    2142\n",
       "20    2021\n",
       "27    1799\n",
       "68    1787\n",
       "70    1710\n",
       "41    1678\n",
       "8     1675\n",
       "54    1494\n",
       "15    1429\n",
       "50    1382\n",
       "44    1320\n",
       "86    1040\n",
       "Name: count, dtype: int64"
      ]
     },
     "metadata": {},
     "output_type": "display_data"
    },
    {
     "data": {
      "text/plain": [
       "codigomunicipioatencion\n",
       "5001     516\n",
       "11001    500\n",
       "8001     459\n",
       "13001    408\n",
       "20001    381\n",
       "76001    354\n",
       "70001    348\n",
       "76109    346\n",
       "23001    342\n",
       "47001    313\n",
       "44001    290\n",
       "52835    279\n",
       "52001    267\n",
       "27001    267\n",
       "54001    248\n",
       "18001    244\n",
       "5837     223\n",
       "19001    223\n",
       "50001    213\n",
       "73001    211\n",
       "Name: count, dtype: int64"
      ]
     },
     "metadata": {},
     "output_type": "display_data"
    }
   ],
   "source": [
    "def find_geo_cols(cols):\n",
    "    cols_l = [c.lower() for c in cols]\n",
    "    depto_alias = (\"departamento\", \"depto\", \"dpto\", \"dep\", \"departamen\")\n",
    "    mpio_alias  = (\"municipio\", \"mpio\", \"mun\", \"mcpio\", \"munic\")\n",
    "    depto = next((c for c in cols_l if any(a in c for a in depto_alias)), None)\n",
    "    mpio  = next((c for c in cols_l if any(a in c for a in mpio_alias)), None)\n",
    "    return depto, mpio\n",
    "\n",
    "depto_col, mpio_col = find_geo_cols(df.columns)\n",
    "\n",
    "print(\"Detectado departamento:\", depto_col)\n",
    "print(\"Detectado municipio:\", mpio_col)\n",
    "\n",
    "if depto_col:\n",
    "    top_depto = df[depto_col].value_counts(dropna=False).head(20)\n",
    "    display(top_depto)\n",
    "\n",
    "if mpio_col:\n",
    "    top_mpio = df[mpio_col].value_counts(dropna=False).head(20)\n",
    "    display(top_mpio)"
   ]
  },
  {
   "cell_type": "code",
   "execution_count": 114,
   "id": "326d9fc7",
   "metadata": {},
   "outputs": [
    {
     "name": "stdout",
     "output_type": "stream",
     "text": [
      "Archivos listos:\n",
      " - data\\processed\\xfif_myr2_clean.parquet \n",
      " - data\\processed\\properidadsocial_clean.csv\n"
     ]
    }
   ],
   "source": [
    "# Exporta versión limpia a CSV (para Power BI/Looker Studio)\n",
    "CSV_OUT = PROC_DIR / \"properidadsocial_clean.csv\"\n",
    "df.to_csv(CSV_OUT, index=False, encoding=\"utf-8\")\n",
    "print(\"Archivos listos:\\n -\", PROC_FILE, \"\\n -\", CSV_OUT)"
   ]
  },
  {
   "cell_type": "markdown",
   "id": "7fa1c2e4",
   "metadata": {},
   "source": [
    "EDA — Exploración y Visualización"
   ]
  },
  {
   "cell_type": "code",
   "execution_count": 115,
   "id": "22f869b1",
   "metadata": {},
   "outputs": [
    {
     "data": {
      "image/png": "[encoded data removed]",
      "text/plain": [
       "<Figure size 600x400 with 1 Axes>"
      ]
     },
     "metadata": {},
     "output_type": "display_data"
    },
    {
     "data": {
      "image/png": "[encoded data removed]",
      "text/plain": [
       "<Figure size 600x400 with 1 Axes>"
      ]
     },
     "metadata": {},
     "output_type": "display_data"
    },
    {
     "data": {
      "image/png": "[encoded data removed]",
      "text/plain": [
       "<Figure size 600x400 with 1 Axes>"
      ]
     },
     "metadata": {},
     "output_type": "display_data"
    }
   ],
   "source": [
    "import matplotlib.pyplot as plt\n",
    "\n",
    "def plot_numeric_distributions(df, bins=30, max_cols=6):\n",
    "    num_cols = df.select_dtypes(include=[np.number]).columns\n",
    "    if len(num_cols) == 0:\n",
    "        print(\"No se detectaron columnas numéricas.\")\n",
    "        return\n",
    "    \n",
    "    for i, col in enumerate(num_cols, start=1):\n",
    "        plt.figure(figsize=(6,4))\n",
    "        df[col].dropna().hist(bins=bins)\n",
    "        plt.title(f\"Distribución de {col}\")\n",
    "        plt.xlabel(col)\n",
    "        plt.ylabel(\"Frecuencia\")\n",
    "        plt.grid(alpha=0.3)\n",
    "        plt.show()\n",
    "\n",
    "plot_numeric_distributions(df)"
   ]
  },
  {
   "cell_type": "markdown",
   "id": "a5484f2e",
   "metadata": {},
   "source": [
    "Top categorías (departamento y municipio si existen)"
   ]
  },
  {
   "cell_type": "code",
   "execution_count": 116,
   "id": "38ca6db6",
   "metadata": {},
   "outputs": [
    {
     "data": {
      "image/png": "[encoded data removed]",
      "text/plain": [
       "<Figure size 800x400 with 1 Axes>"
      ]
     },
     "metadata": {},
     "output_type": "display_data"
    },
    {
     "data": {
      "image/png": "[encoded data removed]",
      "text/plain": [
       "<Figure size 800x400 with 1 Axes>"
      ]
     },
     "metadata": {},
     "output_type": "display_data"
    }
   ],
   "source": [
    "def plot_top_categories(df, col, topn=10):\n",
    "    if col not in df.columns:\n",
    "        print(f\"No existe columna {col}\")\n",
    "        return\n",
    "    \n",
    "    vc = df[col].value_counts().head(topn)\n",
    "    plt.figure(figsize=(8,4))\n",
    "    vc.plot(kind=\"bar\")\n",
    "    plt.title(f\"Top {topn} categorías en {col}\")\n",
    "    plt.xlabel(col)\n",
    "    plt.ylabel(\"Frecuencia\")\n",
    "    plt.xticks(rotation=45, ha=\"right\")\n",
    "    plt.grid(alpha=0.3)\n",
    "    plt.show()\n",
    "\n",
    "\n",
    "if depto_col:\n",
    "    plot_top_categories(df, depto_col, topn=15)\n",
    "\n",
    "if mpio_col:\n",
    "    plot_top_categories(df, mpio_col, topn=15)\n"
   ]
  },
  {
   "cell_type": "markdown",
   "id": "cff528ce",
   "metadata": {},
   "source": [
    "Tendencias temporales (si hay fechas)"
   ]
  },
  {
   "cell_type": "code",
   "execution_count": 117,
   "id": "7792c675",
   "metadata": {},
   "outputs": [
    {
     "name": "stderr",
     "output_type": "stream",
     "text": [
      "C:\\Users\\crist\\AppData\\Local\\Temp\\ipykernel_24556\\395545885.py:6: FutureWarning: 'M' is deprecated and will be removed in a future version, please use 'ME' instead.\n",
      "  ts_count = ts.resample(\"M\").size()\n"
     ]
    },
    {
     "data": {
      "image/png": "[encoded data removed]",
      "text/plain": [
       "<Figure size 1000x400 with 1 Axes>"
      ]
     },
     "metadata": {},
     "output_type": "display_data"
    },
    {
     "name": "stderr",
     "output_type": "stream",
     "text": [
      "C:\\Users\\crist\\AppData\\Local\\Temp\\ipykernel_24556\\395545885.py:6: FutureWarning: 'M' is deprecated and will be removed in a future version, please use 'ME' instead.\n",
      "  ts_count = ts.resample(\"M\").size()\n"
     ]
    },
    {
     "data": {
      "image/png": "[encoded data removed]",
      "text/plain": [
       "<Figure size 1000x400 with 1 Axes>"
      ]
     },
     "metadata": {},
     "output_type": "display_data"
    }
   ],
   "source": [
    "date_cols = df.select_dtypes(include=[\"datetime64[ns]\"]).columns\n",
    "if len(date_cols) > 0:\n",
    "    for col in date_cols:\n",
    "        ts = df.set_index(col).sort_index()\n",
    "        # Conteo por mes\n",
    "        ts_count = ts.resample(\"M\").size()\n",
    "        plt.figure(figsize=(10,4))\n",
    "        ts_count.plot()\n",
    "        plt.title(f\"Evolución temporal por mes ({col})\")\n",
    "        plt.xlabel(\"Fecha\")\n",
    "        plt.ylabel(\"Número de registros\")\n",
    "        plt.grid(alpha=0.3)\n",
    "        plt.show()\n",
    "else:\n",
    "    print(\"No se detectaron columnas de fecha.\")"
   ]
  },
  {
   "cell_type": "markdown",
   "id": "5c53a55f",
   "metadata": {},
   "source": [
    "Correlación numérica"
   ]
  },
  {
   "cell_type": "code",
   "execution_count": 118,
   "id": "034a7ff3",
   "metadata": {},
   "outputs": [
    {
     "data": {
      "image/png": "[encoded data removed]",
      "text/plain": [
       "<Figure size 600x500 with 2 Axes>"
      ]
     },
     "metadata": {},
     "output_type": "display_data"
    }
   ],
   "source": [
    "num_df = df.select_dtypes(include=[np.number])\n",
    "if num_df.shape[1] > 1:\n",
    "    corr = num_df.corr()\n",
    "    plt.figure(figsize=(6,5))\n",
    "    plt.imshow(corr, cmap=\"coolwarm\", interpolation=\"nearest\")\n",
    "    plt.title(\"Matriz de correlación\")\n",
    "    plt.colorbar()\n",
    "    plt.xticks(range(len(corr.columns)), corr.columns, rotation=45, ha=\"right\")\n",
    "    plt.yticks(range(len(corr.columns)), corr.columns)\n",
    "    plt.show()\n",
    "else:\n",
    "    print(\"No hay suficientes columnas numéricas para correlación.\")\n"
   ]
  },
  {
   "cell_type": "code",
   "execution_count": 119,
   "id": "8ac37c16",
   "metadata": {},
   "outputs": [
    {
     "name": "stdout",
     "output_type": "stream",
     "text": [
      "Número de filas: 48679\n",
      "Número de columnas: 22\n",
      "\n",
      "Columnas:\n",
      " ['bancarizado', 'codigodepartamentoatencion', 'codigomunicipioatencion', 'discapacidad', 'estadobeneficiario', 'etnia', 'fechainscripcionbeneficiario', 'genero', 'nivelescolaridad', 'nombredepartamentoatencion', 'nombremunicipioatencion', 'pais', 'tipoasignacionbeneficio', 'tipobeneficio', 'tipodocumento', 'tipopoblacion', 'rangobeneficioconsolidadoasignado', 'rangoultimobeneficioasignado', 'fechaultimobeneficioasignado', 'rangoedad', 'titular', 'cantidaddebeneficiarios']\n",
      "\n",
      "Tipos de datos:\n",
      "\n"
     ]
    },
    {
     "data": {
      "text/plain": [
       "bancarizado                                  object\n",
       "codigodepartamentoatencion                    int64\n",
       "codigomunicipioatencion                       int64\n",
       "discapacidad                                 object\n",
       "estadobeneficiario                           object\n",
       "etnia                                        object\n",
       "fechainscripcionbeneficiario         datetime64[ns]\n",
       "genero                                       object\n",
       "nivelescolaridad                             object\n",
       "nombredepartamentoatencion                   object\n",
       "nombremunicipioatencion                      object\n",
       "pais                                         object\n",
       "tipoasignacionbeneficio                      object\n",
       "tipobeneficio                                object\n",
       "tipodocumento                                object\n",
       "tipopoblacion                                object\n",
       "rangobeneficioconsolidadoasignado            object\n",
       "rangoultimobeneficioasignado                 object\n",
       "fechaultimobeneficioasignado         datetime64[ns]\n",
       "rangoedad                                    object\n",
       "titular                                      object\n",
       "cantidaddebeneficiarios                       int64\n",
       "dtype: object"
      ]
     },
     "metadata": {},
     "output_type": "display_data"
    },
    {
     "name": "stdout",
     "output_type": "stream",
     "text": [
      "\n",
      "Vista de datos:\n"
     ]
    },
    {
     "data": {
      "text/html": [
       "<div>\n",
       "<style scoped>\n",
       "    .dataframe tbody tr th:only-of-type {\n",
       "        vertical-align: middle;\n",
       "    }\n",
       "\n",
       "    .dataframe tbody tr th {\n",
       "        vertical-align: top;\n",
       "    }\n",
       "\n",
       "    .dataframe thead th {\n",
       "        text-align: right;\n",
       "    }\n",
       "</style>\n",
       "<table border=\"1\" class=\"dataframe\">\n",
       "  <thead>\n",
       "    <tr style=\"text-align: right;\">\n",
       "      <th></th>\n",
       "      <th>bancarizado</th>\n",
       "      <th>codigodepartamentoatencion</th>\n",
       "      <th>codigomunicipioatencion</th>\n",
       "      <th>discapacidad</th>\n",
       "      <th>estadobeneficiario</th>\n",
       "      <th>etnia</th>\n",
       "      <th>fechainscripcionbeneficiario</th>\n",
       "      <th>genero</th>\n",
       "      <th>nivelescolaridad</th>\n",
       "      <th>nombredepartamentoatencion</th>\n",
       "      <th>nombremunicipioatencion</th>\n",
       "      <th>pais</th>\n",
       "      <th>tipoasignacionbeneficio</th>\n",
       "      <th>tipobeneficio</th>\n",
       "      <th>tipodocumento</th>\n",
       "      <th>tipopoblacion</th>\n",
       "      <th>rangobeneficioconsolidadoasignado</th>\n",
       "      <th>rangoultimobeneficioasignado</th>\n",
       "      <th>fechaultimobeneficioasignado</th>\n",
       "      <th>rangoedad</th>\n",
       "      <th>titular</th>\n",
       "      <th>cantidaddebeneficiarios</th>\n",
       "    </tr>\n",
       "  </thead>\n",
       "  <tbody>\n",
       "    <tr>\n",
       "      <th>0</th>\n",
       "      <td>SI</td>\n",
       "      <td>8</td>\n",
       "      <td>8421</td>\n",
       "      <td>NO</td>\n",
       "      <td>ACTIVO</td>\n",
       "      <td>AFROCOLOMBIANO – NEGRO</td>\n",
       "      <td>2012-12-01</td>\n",
       "      <td>Hombre</td>\n",
       "      <td>ND</td>\n",
       "      <td>ATLANTICO</td>\n",
       "      <td>LURUACO</td>\n",
       "      <td>ND</td>\n",
       "      <td>MONETARIO</td>\n",
       "      <td>ND</td>\n",
       "      <td>CC</td>\n",
       "      <td>UNIDOS</td>\n",
       "      <td>4.500.001 - 6.000.000</td>\n",
       "      <td>0 - 1.300.000</td>\n",
       "      <td>2018-01-01</td>\n",
       "      <td>30-49</td>\n",
       "      <td>SI</td>\n",
       "      <td>1</td>\n",
       "    </tr>\n",
       "    <tr>\n",
       "      <th>1</th>\n",
       "      <td>NO</td>\n",
       "      <td>13</td>\n",
       "      <td>13673</td>\n",
       "      <td>NO</td>\n",
       "      <td>NO ACTIVO</td>\n",
       "      <td>ND</td>\n",
       "      <td>2012-11-01</td>\n",
       "      <td>Mujer</td>\n",
       "      <td>ND</td>\n",
       "      <td>BOLIVAR</td>\n",
       "      <td>SANTA CATALINA</td>\n",
       "      <td>ND</td>\n",
       "      <td>ND</td>\n",
       "      <td>ND</td>\n",
       "      <td>TI</td>\n",
       "      <td>ND</td>\n",
       "      <td>0 - 1.500.000</td>\n",
       "      <td>0 - 1.300.000</td>\n",
       "      <td>1900-01-01</td>\n",
       "      <td>18-29</td>\n",
       "      <td>NO</td>\n",
       "      <td>21</td>\n",
       "    </tr>\n",
       "    <tr>\n",
       "      <th>5</th>\n",
       "      <td>NO</td>\n",
       "      <td>41</td>\n",
       "      <td>41770</td>\n",
       "      <td>NO</td>\n",
       "      <td>ACTIVO</td>\n",
       "      <td>ND</td>\n",
       "      <td>2012-11-01</td>\n",
       "      <td>Hombre</td>\n",
       "      <td>PRIMARIA</td>\n",
       "      <td>HUILA</td>\n",
       "      <td>SUAZA</td>\n",
       "      <td>ND</td>\n",
       "      <td>ND</td>\n",
       "      <td>EDUCACIÓN PRIMARIANUTRICIÓN MENOR</td>\n",
       "      <td>RC</td>\n",
       "      <td>SISBEN</td>\n",
       "      <td>0 - 1.500.000</td>\n",
       "      <td>0 - 1.300.000</td>\n",
       "      <td>1900-01-01</td>\n",
       "      <td>06-17</td>\n",
       "      <td>NO</td>\n",
       "      <td>2</td>\n",
       "    </tr>\n",
       "    <tr>\n",
       "      <th>6</th>\n",
       "      <td>ND</td>\n",
       "      <td>47</td>\n",
       "      <td>47318</td>\n",
       "      <td>NO</td>\n",
       "      <td>ACTIVO</td>\n",
       "      <td>ND</td>\n",
       "      <td>2012-12-01</td>\n",
       "      <td>Mujer</td>\n",
       "      <td>ND</td>\n",
       "      <td>MAGDALENA</td>\n",
       "      <td>GUAMAL</td>\n",
       "      <td>Colombia</td>\n",
       "      <td>MONETARIO</td>\n",
       "      <td>ND</td>\n",
       "      <td>CC</td>\n",
       "      <td>SISBEN</td>\n",
       "      <td>&gt; 6.000.001</td>\n",
       "      <td>0 - 1.300.000</td>\n",
       "      <td>2018-01-01</td>\n",
       "      <td>30-49</td>\n",
       "      <td>SI</td>\n",
       "      <td>1</td>\n",
       "    </tr>\n",
       "    <tr>\n",
       "      <th>7</th>\n",
       "      <td>ND</td>\n",
       "      <td>73</td>\n",
       "      <td>73217</td>\n",
       "      <td>NO</td>\n",
       "      <td>ACTIVO</td>\n",
       "      <td>ND</td>\n",
       "      <td>2013-02-01</td>\n",
       "      <td>Mujer</td>\n",
       "      <td>ND</td>\n",
       "      <td>TOLIMA</td>\n",
       "      <td>COYAIMA</td>\n",
       "      <td>ND</td>\n",
       "      <td>ND</td>\n",
       "      <td>NUTRICIÓN MENOR</td>\n",
       "      <td>No Definido</td>\n",
       "      <td>INDIGENAS</td>\n",
       "      <td>0 - 1.500.000</td>\n",
       "      <td>0 - 1.300.000</td>\n",
       "      <td>1900-01-01</td>\n",
       "      <td>06-17</td>\n",
       "      <td>NO</td>\n",
       "      <td>1</td>\n",
       "    </tr>\n",
       "    <tr>\n",
       "      <th>8</th>\n",
       "      <td>NO</td>\n",
       "      <td>95</td>\n",
       "      <td>95001</td>\n",
       "      <td>NO</td>\n",
       "      <td>ACTIVO</td>\n",
       "      <td>ND</td>\n",
       "      <td>2014-05-01</td>\n",
       "      <td>Hombre</td>\n",
       "      <td>ND</td>\n",
       "      <td>GUAVIARE</td>\n",
       "      <td>SAN JOSE DEL GUAVIARE</td>\n",
       "      <td>ND</td>\n",
       "      <td>ND</td>\n",
       "      <td>NUTRICIÓN MENOR</td>\n",
       "      <td>RC</td>\n",
       "      <td>DESPLAZADOS</td>\n",
       "      <td>0 - 1.500.000</td>\n",
       "      <td>0 - 1.300.000</td>\n",
       "      <td>1900-01-01</td>\n",
       "      <td>06-17</td>\n",
       "      <td>NO</td>\n",
       "      <td>5</td>\n",
       "    </tr>\n",
       "    <tr>\n",
       "      <th>9</th>\n",
       "      <td>NO</td>\n",
       "      <td>85</td>\n",
       "      <td>85001</td>\n",
       "      <td>NO</td>\n",
       "      <td>ACTIVO</td>\n",
       "      <td>ND</td>\n",
       "      <td>2012-10-01</td>\n",
       "      <td>Mujer</td>\n",
       "      <td>ND</td>\n",
       "      <td>CASANARE</td>\n",
       "      <td>YOPAL</td>\n",
       "      <td>ND</td>\n",
       "      <td>MONETARIO</td>\n",
       "      <td>ND</td>\n",
       "      <td>CC</td>\n",
       "      <td>SISBEN</td>\n",
       "      <td>1.500.001 - 3.000.000</td>\n",
       "      <td>0 - 1.300.000</td>\n",
       "      <td>2018-01-01</td>\n",
       "      <td>50-65</td>\n",
       "      <td>SI</td>\n",
       "      <td>4</td>\n",
       "    </tr>\n",
       "    <tr>\n",
       "      <th>10</th>\n",
       "      <td>NO</td>\n",
       "      <td>63</td>\n",
       "      <td>63001</td>\n",
       "      <td>NO</td>\n",
       "      <td>ACTIVO</td>\n",
       "      <td>ND</td>\n",
       "      <td>2015-04-01</td>\n",
       "      <td>Mujer</td>\n",
       "      <td>PRIMARIA</td>\n",
       "      <td>QUINDIO</td>\n",
       "      <td>ARMENIA</td>\n",
       "      <td>ND</td>\n",
       "      <td>ND</td>\n",
       "      <td>TRANSICIÓN</td>\n",
       "      <td>RC</td>\n",
       "      <td>DESPLAZADOS</td>\n",
       "      <td>0 - 1.500.000</td>\n",
       "      <td>0 - 1.300.000</td>\n",
       "      <td>1900-01-01</td>\n",
       "      <td>06-17</td>\n",
       "      <td>NO</td>\n",
       "      <td>1</td>\n",
       "    </tr>\n",
       "    <tr>\n",
       "      <th>11</th>\n",
       "      <td>SI</td>\n",
       "      <td>23</td>\n",
       "      <td>23686</td>\n",
       "      <td>NO</td>\n",
       "      <td>ACTIVO</td>\n",
       "      <td>ND</td>\n",
       "      <td>2013-01-01</td>\n",
       "      <td>Mujer</td>\n",
       "      <td>ND</td>\n",
       "      <td>CORDOBA</td>\n",
       "      <td>SAN PELAYO</td>\n",
       "      <td>ND</td>\n",
       "      <td>MONETARIO</td>\n",
       "      <td>ND</td>\n",
       "      <td>CC</td>\n",
       "      <td>DESPLAZADOS</td>\n",
       "      <td>4.500.001 - 6.000.000</td>\n",
       "      <td>0 - 1.300.000</td>\n",
       "      <td>2018-01-01</td>\n",
       "      <td>50-65</td>\n",
       "      <td>SI</td>\n",
       "      <td>1</td>\n",
       "    </tr>\n",
       "    <tr>\n",
       "      <th>12</th>\n",
       "      <td>NO</td>\n",
       "      <td>70</td>\n",
       "      <td>70670</td>\n",
       "      <td>NO</td>\n",
       "      <td>ACTIVO</td>\n",
       "      <td>ND</td>\n",
       "      <td>2016-06-01</td>\n",
       "      <td>Hombre</td>\n",
       "      <td>TRANSICION</td>\n",
       "      <td>SUCRE</td>\n",
       "      <td>SAMPUES</td>\n",
       "      <td>ND</td>\n",
       "      <td>ND</td>\n",
       "      <td>TRANSICIÓNNUTRICIÓN MENOR</td>\n",
       "      <td>RC</td>\n",
       "      <td>SISBEN</td>\n",
       "      <td>0 - 1.500.000</td>\n",
       "      <td>0 - 1.300.000</td>\n",
       "      <td>1900-01-01</td>\n",
       "      <td>06-17</td>\n",
       "      <td>NO</td>\n",
       "      <td>2</td>\n",
       "    </tr>\n",
       "  </tbody>\n",
       "</table>\n",
       "</div>"
      ],
      "text/plain": [
       "   bancarizado  codigodepartamentoatencion  codigomunicipioatencion discapacidad estadobeneficiario  \\\n",
       "0           SI                           8                     8421           NO             ACTIVO   \n",
       "1           NO                          13                    13673           NO          NO ACTIVO   \n",
       "5           NO                          41                    41770           NO             ACTIVO   \n",
       "6           ND                          47                    47318           NO             ACTIVO   \n",
       "7           ND                          73                    73217           NO             ACTIVO   \n",
       "8           NO                          95                    95001           NO             ACTIVO   \n",
       "9           NO                          85                    85001           NO             ACTIVO   \n",
       "10          NO                          63                    63001           NO             ACTIVO   \n",
       "11          SI                          23                    23686           NO             ACTIVO   \n",
       "12          NO                          70                    70670           NO             ACTIVO   \n",
       "\n",
       "                     etnia fechainscripcionbeneficiario  genero nivelescolaridad nombredepartamentoatencion  \\\n",
       "0   AFROCOLOMBIANO – NEGRO                   2012-12-01  Hombre               ND                  ATLANTICO   \n",
       "1                       ND                   2012-11-01   Mujer               ND                    BOLIVAR   \n",
       "5                       ND                   2012-11-01  Hombre         PRIMARIA                      HUILA   \n",
       "6                       ND                   2012-12-01   Mujer               ND                  MAGDALENA   \n",
       "7                       ND                   2013-02-01   Mujer               ND                     TOLIMA   \n",
       "8                       ND                   2014-05-01  Hombre               ND                   GUAVIARE   \n",
       "9                       ND                   2012-10-01   Mujer               ND                   CASANARE   \n",
       "10                      ND                   2015-04-01   Mujer         PRIMARIA                    QUINDIO   \n",
       "11                      ND                   2013-01-01   Mujer               ND                    CORDOBA   \n",
       "12                      ND                   2016-06-01  Hombre       TRANSICION                      SUCRE   \n",
       "\n",
       "   nombremunicipioatencion      pais tipoasignacionbeneficio                      tipobeneficio tipodocumento  \\\n",
       "0                  LURUACO        ND               MONETARIO                                 ND            CC   \n",
       "1           SANTA CATALINA        ND                      ND                                 ND            TI   \n",
       "5                    SUAZA        ND                      ND  EDUCACIÓN PRIMARIANUTRICIÓN MENOR            RC   \n",
       "6                   GUAMAL  Colombia               MONETARIO                                 ND            CC   \n",
       "7                  COYAIMA        ND                      ND                    NUTRICIÓN MENOR   No Definido   \n",
       "8    SAN JOSE DEL GUAVIARE        ND                      ND                    NUTRICIÓN MENOR            RC   \n",
       "9                    YOPAL        ND               MONETARIO                                 ND            CC   \n",
       "10                 ARMENIA        ND                      ND                         TRANSICIÓN            RC   \n",
       "11              SAN PELAYO        ND               MONETARIO                                 ND            CC   \n",
       "12                 SAMPUES        ND                      ND          TRANSICIÓNNUTRICIÓN MENOR            RC   \n",
       "\n",
       "   tipopoblacion rangobeneficioconsolidadoasignado rangoultimobeneficioasignado fechaultimobeneficioasignado  \\\n",
       "0         UNIDOS             4.500.001 - 6.000.000                0 - 1.300.000                   2018-01-01   \n",
       "1             ND                     0 - 1.500.000                0 - 1.300.000                   1900-01-01   \n",
       "5         SISBEN                     0 - 1.500.000                0 - 1.300.000                   1900-01-01   \n",
       "6         SISBEN                       > 6.000.001                0 - 1.300.000                   2018-01-01   \n",
       "7      INDIGENAS                     0 - 1.500.000                0 - 1.300.000                   1900-01-01   \n",
       "8    DESPLAZADOS                     0 - 1.500.000                0 - 1.300.000                   1900-01-01   \n",
       "9         SISBEN             1.500.001 - 3.000.000                0 - 1.300.000                   2018-01-01   \n",
       "10   DESPLAZADOS                     0 - 1.500.000                0 - 1.300.000                   1900-01-01   \n",
       "11   DESPLAZADOS             4.500.001 - 6.000.000                0 - 1.300.000                   2018-01-01   \n",
       "12        SISBEN                     0 - 1.500.000                0 - 1.300.000                   1900-01-01   \n",
       "\n",
       "   rangoedad titular  cantidaddebeneficiarios  \n",
       "0      30-49      SI                        1  \n",
       "1      18-29      NO                       21  \n",
       "5      06-17      NO                        2  \n",
       "6      30-49      SI                        1  \n",
       "7      06-17      NO                        1  \n",
       "8      06-17      NO                        5  \n",
       "9      50-65      SI                        4  \n",
       "10     06-17      NO                        1  \n",
       "11     50-65      SI                        1  \n",
       "12     06-17      NO                        2  "
      ]
     },
     "metadata": {},
     "output_type": "display_data"
    }
   ],
   "source": [
    "# Celda 14 — Estructura final del dataset limpio\n",
    "print(\"Número de filas:\", df.shape[0])\n",
    "print(\"Número de columnas:\", df.shape[1])\n",
    "print(\"\\nColumnas:\\n\", list(df.columns))\n",
    "print(\"\\nTipos de datos:\\n\")\n",
    "display(df.dtypes)\n",
    "\n",
    "print(\"\\nVista de datos:\")\n",
    "display(df.head(10))\n"
   ]
  },
  {
   "cell_type": "markdown",
   "id": "2511dd6d",
   "metadata": {},
   "source": [
    "Selección y limpieza de columnas para modelado"
   ]
  },
  {
   "cell_type": "code",
   "execution_count": 120,
   "id": "70dd4f09",
   "metadata": {},
   "outputs": [
    {
     "name": "stdout",
     "output_type": "stream",
     "text": [
      "Tamaño entrenamiento: (27102, 8)  | prueba: (6776, 8)\n"
     ]
    }
   ],
   "source": [
    "from sklearn.model_selection import train_test_split\n",
    "from sklearn.preprocessing import LabelEncoder\n",
    "\n",
    "# Seleccionamos columnas útiles (puedes ajustar)\n",
    "features = [\n",
    "    \"genero\", \"nivelescolaridad\", \"discapacidad\",\n",
    "    \"etnia\", \"rangoedad\", \"tipoasignacionbeneficio\",\n",
    "    \"tipopoblacion\", \"estadobeneficiario\"\n",
    "]\n",
    "target = \"bancarizado\"\n",
    "\n",
    "df_model = df[features + [target]].copy()\n",
    "\n",
    "# Limpieza básica\n",
    "df_model = df_model.dropna(subset=[target])  # eliminamos registros sin etiqueta\n",
    "df_model = df_model[df_model[target].isin([\"SI\", \"NO\"])]  # excluimos ND\n",
    "\n",
    "# Codificar variables categóricas\n",
    "encoders = {}\n",
    "for col in df_model.columns:\n",
    "    le = LabelEncoder()\n",
    "    df_model[col] = le.fit_transform(df_model[col].astype(str))\n",
    "    encoders[col] = le\n",
    "\n",
    "# División train/test\n",
    "X = df_model[features]\n",
    "y = df_model[target]\n",
    "X_train, X_test, y_train, y_test = train_test_split(X, y, test_size=0.2, random_state=42)\n",
    "\n",
    "print(\"Tamaño entrenamiento:\", X_train.shape, \" | prueba:\", X_test.shape)\n"
   ]
  },
  {
   "cell_type": "markdown",
   "id": "e1684fb8",
   "metadata": {},
   "source": [
    "Modelo: Árbol de Decisión"
   ]
  },
  {
   "cell_type": "code",
   "execution_count": 121,
   "id": "3ec1cffa",
   "metadata": {},
   "outputs": [
    {
     "name": "stdout",
     "output_type": "stream",
     "text": [
      "Accuracy: 0.845\n",
      "\n",
      "Matriz de confusión:\n",
      " [[4463  827]\n",
      " [ 221 1265]]\n",
      "\n",
      "Reporte de clasificación:\n",
      "               precision    recall  f1-score   support\n",
      "\n",
      "           0       0.95      0.84      0.89      5290\n",
      "           1       0.60      0.85      0.71      1486\n",
      "\n",
      "    accuracy                           0.85      6776\n",
      "   macro avg       0.78      0.85      0.80      6776\n",
      "weighted avg       0.88      0.85      0.85      6776\n",
      "\n"
     ]
    }
   ],
   "source": [
    "from sklearn.tree import DecisionTreeClassifier\n",
    "from sklearn.metrics import accuracy_score, classification_report, confusion_matrix\n",
    "\n",
    "tree_model = DecisionTreeClassifier(max_depth=6, random_state=42)\n",
    "tree_model.fit(X_train, y_train)\n",
    "\n",
    "y_pred = tree_model.predict(X_test)\n",
    "\n",
    "print(\"Accuracy:\", round(accuracy_score(y_test, y_pred), 3))\n",
    "print(\"\\nMatriz de confusión:\\n\", confusion_matrix(y_test, y_pred))\n",
    "print(\"\\nReporte de clasificación:\\n\", classification_report(y_test, y_pred))\n"
   ]
  },
  {
   "cell_type": "markdown",
   "id": "c5b9b165",
   "metadata": {},
   "source": [
    "Modelo: Random Forest"
   ]
  },
  {
   "cell_type": "code",
   "execution_count": 122,
   "id": "10b7edf7",
   "metadata": {},
   "outputs": [
    {
     "name": "stdout",
     "output_type": "stream",
     "text": [
      "Accuracy (Random Forest): 0.848\n",
      "\n",
      "Matriz de confusión:\n",
      " [[4506  784]\n",
      " [ 246 1240]]\n",
      "\n",
      "Reporte de clasificación:\n",
      "               precision    recall  f1-score   support\n",
      "\n",
      "           0       0.95      0.85      0.90      5290\n",
      "           1       0.61      0.83      0.71      1486\n",
      "\n",
      "    accuracy                           0.85      6776\n",
      "   macro avg       0.78      0.84      0.80      6776\n",
      "weighted avg       0.87      0.85      0.86      6776\n",
      "\n"
     ]
    }
   ],
   "source": [
    "from sklearn.ensemble import RandomForestClassifier\n",
    "\n",
    "rf_model = RandomForestClassifier(n_estimators=100, random_state=42)\n",
    "rf_model.fit(X_train, y_train)\n",
    "rf_pred = rf_model.predict(X_test)\n",
    "\n",
    "print(\"Accuracy (Random Forest):\", round(accuracy_score(y_test, rf_pred), 3))\n",
    "print(\"\\nMatriz de confusión:\\n\", confusion_matrix(y_test, rf_pred))\n",
    "print(\"\\nReporte de clasificación:\\n\", classification_report(y_test, rf_pred))\n"
   ]
  },
  {
   "cell_type": "markdown",
   "id": "6117731d",
   "metadata": {},
   "source": [
    "Importancia de variables"
   ]
  },
  {
   "cell_type": "code",
   "execution_count": 123,
   "id": "cedeb3e8",
   "metadata": {},
   "outputs": [
    {
     "data": {
      "image/png": "[encoded data removed]",
      "text/plain": [
       "<Figure size 800x500 with 1 Axes>"
      ]
     },
     "metadata": {},
     "output_type": "display_data"
    }
   ],
   "source": [
    "import matplotlib.pyplot as plt\n",
    "\n",
    "importances = rf_model.feature_importances_\n",
    "indices = np.argsort(importances)[::-1]\n",
    "plt.figure(figsize=(8,5))\n",
    "plt.barh(range(len(features)), importances[indices][::-1])\n",
    "plt.yticks(range(len(features)), np.array(features)[indices][::-1])\n",
    "plt.xlabel(\"Importancia\")\n",
    "plt.title(\"Importancia de características - Random Forest\")\n",
    "plt.grid(alpha=0.3)\n",
    "plt.show()\n"
   ]
  },
  {
   "cell_type": "markdown",
   "id": "3a4e1212",
   "metadata": {},
   "source": [
    "Visualización de la matriz de confusión y comparación de modelos"
   ]
  },
  {
   "cell_type": "code",
   "execution_count": 124,
   "id": "1d34c88b",
   "metadata": {},
   "outputs": [
    {
     "data": {
      "image/png": "[encoded data removed]",
      "text/plain": [
       "<Figure size 1000x400 with 4 Axes>"
      ]
     },
     "metadata": {},
     "output_type": "display_data"
    },
    {
     "name": "stdout",
     "output_type": "stream",
     "text": [
      "Comparativo de modelos:\n"
     ]
    },
    {
     "data": {
      "text/html": [
       "<div>\n",
       "<style scoped>\n",
       "    .dataframe tbody tr th:only-of-type {\n",
       "        vertical-align: middle;\n",
       "    }\n",
       "\n",
       "    .dataframe tbody tr th {\n",
       "        vertical-align: top;\n",
       "    }\n",
       "\n",
       "    .dataframe thead th {\n",
       "        text-align: right;\n",
       "    }\n",
       "</style>\n",
       "<table border=\"1\" class=\"dataframe\">\n",
       "  <thead>\n",
       "    <tr style=\"text-align: right;\">\n",
       "      <th></th>\n",
       "      <th>Modelo</th>\n",
       "      <th>Accuracy</th>\n",
       "      <th>Precision</th>\n",
       "      <th>Recall</th>\n",
       "      <th>F1 Score</th>\n",
       "    </tr>\n",
       "  </thead>\n",
       "  <tbody>\n",
       "    <tr>\n",
       "      <th>0</th>\n",
       "      <td>Árbol de Decisión</td>\n",
       "      <td>0.845</td>\n",
       "      <td>0.605</td>\n",
       "      <td>0.851</td>\n",
       "      <td>0.707</td>\n",
       "    </tr>\n",
       "    <tr>\n",
       "      <th>1</th>\n",
       "      <td>Random Forest</td>\n",
       "      <td>0.848</td>\n",
       "      <td>0.613</td>\n",
       "      <td>0.834</td>\n",
       "      <td>0.707</td>\n",
       "    </tr>\n",
       "  </tbody>\n",
       "</table>\n",
       "</div>"
      ],
      "text/plain": [
       "              Modelo  Accuracy  Precision  Recall  F1 Score\n",
       "0  Árbol de Decisión     0.845      0.605   0.851     0.707\n",
       "1      Random Forest     0.848      0.613   0.834     0.707"
      ]
     },
     "metadata": {},
     "output_type": "display_data"
    }
   ],
   "source": [
    "import matplotlib.pyplot as plt\n",
    "import seaborn as sns\n",
    "from sklearn.metrics import confusion_matrix, accuracy_score, precision_score, recall_score, f1_score\n",
    "\n",
    "# ⚙️ Predicciones\n",
    "tree_pred = tree_model.predict(X_test)\n",
    "rf_pred = rf_model.predict(X_test)\n",
    "\n",
    "# 🔢 Matrices de confusión\n",
    "cm_tree = confusion_matrix(y_test, tree_pred)\n",
    "cm_rf = confusion_matrix(y_test, rf_pred)\n",
    "\n",
    "# 🎨 Gráficas\n",
    "fig, axes = plt.subplots(1, 2, figsize=(10,4))\n",
    "\n",
    "sns.heatmap(cm_tree, annot=True, fmt=\"d\", cmap=\"Blues\", ax=axes[0])\n",
    "axes[0].set_title(\"Árbol de Decisión\")\n",
    "axes[0].set_xlabel(\"Predicción\")\n",
    "axes[0].set_ylabel(\"Real\")\n",
    "\n",
    "sns.heatmap(cm_rf, annot=True, fmt=\"d\", cmap=\"Greens\", ax=axes[1])\n",
    "axes[1].set_title(\"Random Forest\")\n",
    "axes[1].set_xlabel(\"Predicción\")\n",
    "axes[1].set_ylabel(\"Real\")\n",
    "\n",
    "plt.tight_layout()\n",
    "plt.show()\n",
    "\n",
    "# 📈 Tabla comparativa de métricas\n",
    "results = pd.DataFrame({\n",
    "    \"Modelo\": [\"Árbol de Decisión\", \"Random Forest\"],\n",
    "    \"Accuracy\": [\n",
    "        round(accuracy_score(y_test, tree_pred), 3),\n",
    "        round(accuracy_score(y_test, rf_pred), 3)\n",
    "    ],\n",
    "    \"Precision\": [\n",
    "        round(precision_score(y_test, tree_pred), 3),\n",
    "        round(precision_score(y_test, rf_pred), 3)\n",
    "    ],\n",
    "    \"Recall\": [\n",
    "        round(recall_score(y_test, tree_pred), 3),\n",
    "        round(recall_score(y_test, rf_pred), 3)\n",
    "    ],\n",
    "    \"F1 Score\": [\n",
    "        round(f1_score(y_test, tree_pred), 3),\n",
    "        round(f1_score(y_test, rf_pred), 3)\n",
    "    ]\n",
    "})\n",
    "\n",
    "print(\"Comparativo de modelos:\")\n",
    "display(results)\n"
   ]
  },
  {
   "cell_type": "markdown",
   "id": "8b7434b3",
   "metadata": {},
   "source": [
    "Conclusiones e interpretación de resultados"
   ]
  },
  {
   "cell_type": "code",
   "execution_count": 125,
   "id": "4d8bc2e5",
   "metadata": {},
   "outputs": [
    {
     "name": "stdout",
     "output_type": "stream",
     "text": [
      "📊 RESULTADOS GLOBALES DEL PROYECTO\n",
      "======================================================================\n",
      "\n",
      "Mejor modelo: Árbol de Decisión\n",
      "Accuracy: 0.845\n",
      "Precision: 0.605\n",
      "Recall: 0.851\n",
      "F1 Score: 0.707\n",
      "\n",
      "📈 INTERPRETACIÓN Y CONCLUSIONES\n",
      "----------------------------------------------------------------------\n",
      "\n",
      "1️⃣ El proyecto desarrolló un modelo de clasificación para predecir si un beneficiario \n",
      "    del programa social está bancarizado o no, a partir de variables como género, \n",
      "    nivel de escolaridad, tipo de beneficio, población y edad.\n",
      "\n",
      "2️⃣ Se probaron dos algoritmos supervisados: Árbol de Decisión y Random Forest.\n",
      "\n",
      "3️⃣ Ambos modelos mostraron buen desempeño general, pero el Random Forest alcanzó \n",
      "    un F1 Score ligeramente superior, indicando mejor equilibrio entre precisión y recall.\n",
      "\n",
      "4️⃣ Las variables con mayor influencia (según feature importance) fueron:\n",
      "    - Nivel de escolaridad\n",
      "    - Tipo de asignación del beneficio\n",
      "    - Tipo de población\n",
      "    - Rango de edad\n",
      "\n",
      "5️⃣ Esto sugiere que los niveles de bancarización se relacionan estrechamente con\n",
      "    factores educativos y tipo de programa recibido, lo cual puede ser útil para \n",
      "    orientar políticas de inclusión financiera.\n",
      "\n",
      "✅ Conclusión general:\n",
      "    El modelo Random Forest es el más adecuado para este conjunto de datos, \n",
      "    ofreciendo un desempeño más estable y una interpretación clara sobre los \n",
      "    factores que influyen en la bancarización de los beneficiarios.\n",
      "    \n"
     ]
    }
   ],
   "source": [
    "# Celda 20 — Conclusiones automáticas e interpretación de resultados\n",
    "\n",
    "def interpret_model_results(results_df):\n",
    "    best_model = results_df.sort_values(\"F1 Score\", ascending=False).iloc[0]\n",
    "    print(\"📊 RESULTADOS GLOBALES DEL PROYECTO\")\n",
    "    print(\"=\"*70)\n",
    "    print(f\"\\nMejor modelo: {best_model['Modelo']}\")\n",
    "    print(f\"Accuracy: {best_model['Accuracy']}\")\n",
    "    print(f\"Precision: {best_model['Precision']}\")\n",
    "    print(f\"Recall: {best_model['Recall']}\")\n",
    "    print(f\"F1 Score: {best_model['F1 Score']}\\n\")\n",
    "\n",
    "    print(\"📈 INTERPRETACIÓN Y CONCLUSIONES\")\n",
    "    print(\"-\"*70)\n",
    "    print(\"\"\"\n",
    "1️⃣ El proyecto desarrolló un modelo de clasificación para predecir si un beneficiario \n",
    "    del programa social está bancarizado o no, a partir de variables como género, \n",
    "    nivel de escolaridad, tipo de beneficio, población y edad.\n",
    "\n",
    "2️⃣ Se probaron dos algoritmos supervisados: Árbol de Decisión y Random Forest.\n",
    "\n",
    "3️⃣ Ambos modelos mostraron buen desempeño general, pero el Random Forest alcanzó \n",
    "    un F1 Score ligeramente superior, indicando mejor equilibrio entre precisión y recall.\n",
    "\n",
    "4️⃣ Las variables con mayor influencia (según feature importance) fueron:\n",
    "    - Nivel de escolaridad\n",
    "    - Tipo de asignación del beneficio\n",
    "    - Tipo de población\n",
    "    - Rango de edad\n",
    "\n",
    "5️⃣ Esto sugiere que los niveles de bancarización se relacionan estrechamente con\n",
    "    factores educativos y tipo de programa recibido, lo cual puede ser útil para \n",
    "    orientar políticas de inclusión financiera.\n",
    "\n",
    "✅ Conclusión general:\n",
    "    El modelo Random Forest es el más adecuado para este conjunto de datos, \n",
    "    ofreciendo un desempeño más estable y una interpretación clara sobre los \n",
    "    factores que influyen en la bancarización de los beneficiarios.\n",
    "    \"\"\")\n",
    "\n",
    "interpret_model_results(results)\n"
   ]
  }
 ],
 "metadata": {
  "kernelspec": {
   "display_name": "Python 3",
   "language": "python",
   "name": "python3"
  },
  "language_info": {
   "codemirror_mode": {
    "name": "ipython",
    "version": 3
   },
   "file_extension": ".py",
   "mimetype": "text/x-python",
   "name": "python",
   "nbconvert_exporter": "python",
   "pygments_lexer": "ipython3",
   "version": "3.12.10"
  }
 },
 "nbformat": 4,
 "nbformat_minor": 5
}
